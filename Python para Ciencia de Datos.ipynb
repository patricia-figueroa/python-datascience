{
 "cells": [
  {
   "cell_type": "markdown",
   "metadata": {},
   "source": [
    "<br><br><center><h1 style=\"font-size:4em;color:#2467C0\">Python para Ciencia de Datos </h1></center>\n",
    "<br>\n",
    "<table>\n",
    "<col width=\"550\">\n",
    "<col width=\"450\">\n",
    "<tr>\n",
    "<td><img src=\"img/imagen.png\" align=\"middle\" /></td>\n",
    "<td align=\"justify\">\n",
    "<p align=\"justify\">La Ciencia de Datos está agregando valía a los modelos de negocios; ya que permite una mejor toma de decisiones, analizando datos previos y haciendo predicciones para riesgos posibles, de tal forma que se pueda trabajar en evitar éstos. El estudio de ciencia de datos y de las herramientas necesarias para ésta es no solo valioso sino necesario, debido al crecimiento masivo de los datos; por lo cual, es importante el aprendizaje del análisis de datos a través de herramientas gratuitas y abiertas como Python. Como una estrategia para impulsar la enseñanza de ésta y como un medio para la actualización profesional de los docentes del departamento de Sistemas y Computación se plantea este diplomado, el cual tiene como propósito que el profesor aprenda a preparar datos, desempeñar análisis estadísticos simples, y crear visualizaciones significativas de éstos. Durante el diplomado el profesor podrá comprender el proceso de lectura, limpieza, visualización de datos en información a través del lenguaje de programación Python.</p>\n",
    "<br>\n",
    "Comenzemos nuestro viaje con Python!\n",
    "</td>\n",
    "</tr>\n",
    "</table>\n",
    "\n",
    "## Syllabus del Diplomado\n",
    "<br> __Modulo I: Introducción al Proceso de Ciencia de Datos__</br>\n",
    "<ol>\n",
    "<li>Proceso de Ciencia de Datos</li>\n",
    "<li>Fundamentos Básicos de Python</li>\n",
    "<li>Introducción a Jupyter y Numpy</li>\n",
    "<li>Introducción a Pandas</li>\n",
    "<li>Introducción a Matplotlib y Seaborn</li>\n",
    "</ol>\n",
    "\n",
    "<br> __Modulo II: Documentos web para el análisis de datos con Jupyter y Numpy__</br>\n",
    "<ol>\n",
    "<li>Funcionalidad y características de los Jupyter Notebooks</li>\n",
    "<li>Creación de Jupyter Notebooks</li>\n",
    "<li>Scripting y Ejecución de código Python en Jupyter Notebooks</li>\n",
    "<li>Widgets con Jupyter Notebooks</li>\n",
    "<li>Utilización de Numpy con Jupyter Netbooks</li>\n",
    "<li>Funciones de Numpy</li>\n",
    "<li>Análisis estadístico con Numpy y Jupyter Netbooks</li>\n",
    "</ol>\n",
    "\n",
    "<br> __Modulo III: Manipulación de datos con Pandas__</br>\n",
    "<ol>\n",
    "<li>Trabajando con datos CSV, JSON y Excel</li>\n",
    "<li>Introducción a objetos en Pandas (Series, DataFrame, Index)</li>\n",
    "<li>Indexación y selección de datos.</li>\n",
    "<li>Operación sobre datos</li>\n",
    "<li>Utilización de Numpy con Jupyter Netbooks</li>\n",
    "<li>Manejo de datos faltantes</li>\n",
    "</ol>\n",
    "\n",
    "<br> __Modulo IV.- Visualización de datos con Matplotlib y Seaborn__</br>\n",
    "<ol>\n",
    "<li>Tipos de Gráficas (Comparación, relación, composición, distribución)</li>\n",
    "<li>Visión general de Gráficas con Matplotlib</li>\n",
    "<li>Simplificación de visualización de datos con Seaborn</li>\n",
    "</ol>\n",
    "\n",
    "## __Antes de Comenzar__\n",
    "<p align=\"justify\"> La forma mas sencilla para comenzar es a través de la instalación de Anaconda. Anaconda es la distribución más utilizada de Python para ciencia de datos, ya que viene con las librerias y herramientas más populares de manera precargada. Algunas de estas librerias son: Numpy, Pandas, Matplotlib, entre otros. Ésta permite adentrarse a la ciencia de datos sin tener que administra instalaciones incontables y preocuparse por dependencias para cada Sistema Operativo específico. </p>\n",
    "<ul>\n",
    "<li>Instalación para Windows</li>\n",
    "    <ol>\n",
    "        <li>Para obtener Anaconda dirigirse al sitio web https://www.anaconda.com/distribution/#download-section y descargar el instalador de Anaconda para Python 3.x</li>\n",
    "        <li>Instalar Anacondad y Seleccionar la opción \"Add Anaconda to the system PATH environment variable” y “Register Anaconda as the system Python 3.x” </li>\n",
    "    </ol>\n",
    "<li>Instalación para distribuciones basadas en Linux**</li>\n",
    "<ol>\n",
    "<li>Para la instalación en distribuciones basadas en linux dirigirse a https://docs.anaconda.com/anaconda/install/linux/ </li>\n",
    "<li>Seguir las instrucciones para cada distribución en específico. </li>\n",
    "</ol>\n",
    "<li>Instalación para macOS</li>\n",
    "<ol>\n",
    "<li>Para la instalación en distribuciones basadas en linux dirigirse a https://docs.anaconda.com/anaconda/install/mac-os/ </li>\n",
    "<li>Seguir las instrucciones para su instalación</li>\n",
    "</ol>"
   ]
  },
  {
   "cell_type": "markdown",
   "metadata": {},
   "source": [
    "## __Modulo I: Introducción al Proceso de Ciencia de Datos__\n",
    "<p align=\"justify\">\n",
    "El objetivo del primer módulo del Diplomado de Python para Ciencia de Datos es proporcionar una visión general de proceso de ciencia de datos, así como la preparación del entorno para llevar a cabo dicho proceso utilizando el lenguaje Python y una visión general a través de ejemplos prácticos y concretos de las herramientas disponibles en python para realizar dicho proceso.\n",
    "</p>\n",
    "\n",
    "### __I.1 Proceso de Ciencia de Datos__\n",
    "<p align=\"justify\">\n",
    "La ciencia de datos convierte los datos en ideas o incluso en acciones para informar sobre el entendimiento de un fenómeno, debido a que frecuentemente son grandes cantidades de datos que se pueden minar para buscar ideas, frecuentmenete se le llama \"Big Data\"; sin embargo, como se puede observar en la siguiente figura, ésta es una parte del proceso de ciencia de Datos.\n",
    "</p>\n",
    "<br>\n",
    "<img src=\"img/cienciadedatos.png\" align=\"middle\"  height=\"700\" width=\"400\" />\n",
    "<br>\n",
    "<br>\n",
    "<p align = \"justify\">\n",
    "El termino \"visión\" (insight) es utilizado para referirse al producto de datos de la ciencia de datos , la cual se extrae de los datos en conjunto con una \"pregunta de análisis\"  y el \"modelado\" de los datos. Es importante mencionar que, para llegar a una pregunta especifica de análisis, algunas veces es necesario mirar los datos para identificar patrones y que el análisis no es un proceso de una sola vez. Es un proceso donde los modelos generados conducen a ideas y esas ideas son mejoradas resumeindo más evidencia o simplemente datos. Finalmente, se puede llegar a la generación de información procesada para \"predecir\" el futuro, como se puede observar en la siguiente imagen:\n",
    "</p>\n",
    "<br>\n",
    "<img src=\"img/cienciadedatos2.png\" align=\"middle\" height=\"700\" width=\"700\" />\n",
    "<br>\n",
    "<br> \n",
    "<p align = \"justify\">\n",
    "Para lograr lo anterior, es conveniente seguir un enfoque estructurado para maximizar las oportunidades de exito al menor costo; sin embargo, este enfoque puede no ser viable para cada tipo de proyecto o ser la única manera para realizar una buena ciencia de datos. A conitnuación, se ilustra este proceso y se describe brevemente cada fase.\n",
    "</p>\n",
    "<br>\n",
    "<img src=\"img/proceso.png\" align=\"middle\" height=\"700\" width=\"700\" />\n",
    "<br>\n",
    "<br> \n",
    "<p align = \"justify\">\n",
    "<ol>\n",
    "<li>El primero paso es establecer el objetivo de la investigación, asegurándose del ¿Qué?, ¿Cómo? y ¿Por qué? del proyecto, resultando en una carta de proyecto</li>\n",
    "<li>El segundo paso es la obtención de los datos viables y el acceso a éstos desde el propietario de los datos. El resultado son datos crudos, los cuales probablemente tienen que ser limpiados, tranformados, etc., antes de convertirse en utilizables.</li>\n",
    "<li>El tercer paso es la preparación de los datos, la cual incluye la transformación de los datos desde su forma cruda en datos directamente utilizables en los modelos requeridos. Para esto, es necesario corregir diferente tipos de errores en los datos, combinar datos de diferentes fuentes de datos y transformarlos. Si se tiene exito en este paso, se puede proceder al modelado y visualización de datos.</li>\n",
    "<li>El cuarto paso es la exploración de los datos para obtener un entendimiento profundo de los datos. Se buscan patrones, correlaciones y desviaciones basadas en técnicas visuales y descriptivas. Los destellos o visiones que se obtienen en esta fase posibilitarán el comienzo del modelado.</li>\n",
    "<li>El quinto paso, la parte interesante del proceso, es la construcción del modelado (modelado de datos). Aquí, se intenta obtener los conocimientos o hacer las predicciones establecidas en la carta del  proyecto. Es importante indicar que una combinación de modelos simples tiende a superar a uno complicado\n",
    "modelo. Si se hace bien esta fase, casi se ha terminado.</li>\n",
    "<li>El sexto paso es la presentación de los resultados y automatización de análisis, si es necesario. Uno de los objetivos de los proyectos es cambiar los procesos y/o hacer mejores decisiones. Aquí es donde se debe convencer que los resultados encontrados pueden cambiar los procesos de negocios como se espera.</li>\n",
    "</ol>\n",
    "</p>\n",
    "<br> \n",
    "\n",
    "### __I.2 Fundamentos Básicos de Python__\n",
    "Python es un lenguaje de scripting de alto nivel orientado a objetos. Fue creado por Guido van Rossum y liberado en 1991. Fue diseñado pensando el la \"leibilidad\" del código, tiendo una similitud al lenguaje Inglés, con una sintaxis que permite a los programadores expresear conceptos en pocas líneas de código. Permite trabajar rápidadmente e integrar sistemas más eficientemente. Existen dos versiones de Python: Python 2.x y Python 3.x, ambas versisones son diferentes. En este diplomado se hace uso de Python 3.x. \n",
    "\n",
    "#### __Sintaxis__\n",
    "<p align = \"justify\">\n",
    "Los programas en python pueden ser escritos en cualquier editor de texto o entornos de desarrollo específicos para Python, éstos son guardados con la extensión .py. Éstos no requieren una linea inicial. Pueden ser ejecutados desde una linea de comandos **python file.py**. No se utilizan llaves {} o puntos y coma ;  En lugar de los llaves los bloques son identificados teniendo la misma identación. Éste no cuenta con una función principal definida por defecto, pero por convención se recomienda definirla y mandarla llamar primeramente. A continuación se presenta un plantilla básica de un script de python a través del típico \"Hola Mundo\".\n",
    "</p>"
   ]
  },
  {
   "cell_type": "code",
   "execution_count": 1,
   "metadata": {},
   "outputs": [
    {
     "name": "stdout",
     "output_type": "stream",
     "text": [
      "Hola mundo\n"
     ]
    }
   ],
   "source": [
    "def main():\n",
    "    #This is a comment.\n",
    "    #There is no multi-line comments.\n",
    "    #A comment follows \n",
    "    print(\"Hola mundo\")\n",
    "    \n",
    "\n",
    "if __name__ == \"__main__\":\n",
    "    main()"
   ]
  },
  {
   "cell_type": "markdown",
   "metadata": {},
   "source": [
    "Como se puede observar la sentencia \n",
    "```python\n",
    "if __nam__ == \"__main__\": \n",
    "    main()\n",
    "```\n",
    "asegura que el código en el bloque if se ejecute solo cuando el archivo en el que se encuentra es ejecutado directamente. Esto es, cada archivo de python (modulo) obtiene un atributo especial llamado ``` __name__```, el cual regrese el nombre del módulo. Si el modulo es ejecutado como el programa principal, el interprete asignará el estring ``` __main__ ``` a la variable ``` __name__ ```. Si la condición se cumple, entonces se manda llamar y ejecutar el código dentro de este a través de una funcion la cual se llamó en este caso ``` main ```. Si el módulo no es ejecutado como programa principal, sino que es importado desde otro módulo, el atributo ``` __name__ ``` pasa a contener el nombre del archivo en si."
   ]
  },
  {
   "cell_type": "markdown",
   "metadata": {},
   "source": [
    "#### __Variables y Tipos de Datos__\n",
    "<p align = \"justify\">\n",
    "Las Variables en Python sigue la nomenclatura estándar alfanumerica comenzando por una letra o un guión bajo . Son sensibles al uso de mayúscualas y minúsculas. Éstas no necesitan ser declaradas y los tipos de datos se infieren a través del valor asignado. Los tipos de datos compuestos estándar se pueden clasificar como los dos siguientes:\n",
    "<ul>\n",
    "<li>Mutable: su contenido (o dicho valor) puede cambiarse en tiempo de ejecución.</li>\n",
    "<li>Inmutable: su contenido (o dicho valor) no puede cambiarse en tiempo de ejecución.</li>    \n",
    "</ul>\n",
    "A continuación se muestra una lista de los tipos que están integrados en Python. Se pueden resumir los tipos de datos compuestos estándar en la siguiente tabla:\n",
    "</p>\n",
    "<table>\n",
    "    <tr>\n",
    "        <td>Categoría</td>\n",
    "        <td>Nombre</td>\n",
    "        <td>Descripción</td>\n",
    "        <td>Ejemplo</td>\n",
    "    </tr>\n",
    "    <tr>\n",
    "        <td>Inmutable</td>\n",
    "        <td>int</td>\n",
    "        <td>entero</td>\n",
    "        <td>edad = 26</td>\n",
    "    </tr>\n",
    "    <tr>\n",
    "        <td>Inmutable</td>\n",
    "        <td>long</td>\n",
    "        <td>entero long</td>\n",
    "        <td>entero = 23L</td>\n",
    "    </tr>\n",
    "    <tr>\n",
    "        <td>Inmutable</td>\n",
    "        <td>float</td>\n",
    "        <td>coma flotante</td>\n",
    "        <td>real = 0.2703</td>\n",
    "    </tr>\n",
    "    <tr>\n",
    "        <td>Inmutable</td>\n",
    "        <td>complex</td>\n",
    "        <td>complejos (tienen parte imaginaria)</td>\n",
    "        <td>complejo = 2.1 + 7.8j</td>\n",
    "    </tr>\n",
    "    <tr>\n",
    "        <td>Inmutable</td>\n",
    "        <td>bool</td>\n",
    "        <td>booleano</td>\n",
    "        <td>bandera = True</td>\n",
    "    </tr>\n",
    "    <tr>\n",
    "        <td>Secuencias inmutables</td>\n",
    "        <td>str</td>\n",
    "        <td>cadena de caracteres</td>\n",
    "        <td>nombre = \"Paola\"</td>\n",
    "    </tr>\n",
    "    <tr>\n",
    "        <td>Secuencias inmutables</td>\n",
    "        <td>unicode</td>\n",
    "        <td>cadena de caracteres Unicode</td>\n",
    "        <td>saber_mas = u\"Atüjaa oo'omüin...\"</td>\n",
    "    </tr>\n",
    "    <tr>\n",
    "        <td>Secuencias inmutables</td>\n",
    "        <td>tuple</td>\n",
    "        <td>tuplas</td>\n",
    "        <td>valores = (\"Python\", True, \"Zope\", 5)</td>\n",
    "    </tr>\n",
    "    <tr>\n",
    "        <td>Secuencias mutables</td>\n",
    "        <td>list</td>\n",
    "        <td>lista, soporta datos heterogeneos</td>\n",
    "        <td>factura = ['pan', 'huevos', 100, 1234]</td>\n",
    "    </tr>\n",
    "    <tr>\n",
    "        <td>Mapeos</td>\n",
    "        <td>dict</td>\n",
    "        <td>diccionario</td>\n",
    "        <td>diccionario ={'python': 27, 'plone': 51}</td>\n",
    "    </tr>\n",
    "    <tr>\n",
    "        <td>Conjuntos mutables</td>\n",
    "        <td>set</td>\n",
    "        <td>conjunto, es una colección no ordenada y sin elementos repetidos</td>\n",
    "        <td>set_mutable1 = set([4, 3, 11, 7, 5, 2, 1, 4])</td>\n",
    "    </tr>\n",
    "</table>\n",
    "\n",
    "<ul>\n",
    "<li>Alcance de las variables: La mayoría de las variables en Python tiene un alcance local en su propia función o clase. Por ejemplo si define a = 1 dentro de una función, entonces la variable \"a\" estará disponible dentro de la función pero será indefinida fuera de ésta. Variables definidas dentro de la función main son accesibles sólo dentro del main pero no para funciones que se llaman desde el main. </li>\n",
    "<li>Variables Globales: Las variables globales  variables son declaradas utilizando la palabra reservada \"global\".</li>\n",
    "</ul>\n"
   ]
  },
  {
   "cell_type": "code",
   "execution_count": 2,
   "metadata": {},
   "outputs": [
    {
     "name": "stdout",
     "output_type": "stream",
     "text": [
      "La suma es:  3\n"
     ]
    }
   ],
   "source": [
    "a=1\n",
    "b=2\n",
    "\n",
    "def sum():\n",
    "    global a, b\n",
    "    c=a+b\n",
    "    return c\n",
    "\n",
    "def main():\n",
    "    resultado = sum()\n",
    "    print(\"La suma es: \", str(resultado))\n",
    "    \n",
    "\n",
    "if __name__ == \"__main__\":\n",
    "    main()"
   ]
  },
  {
   "cell_type": "markdown",
   "metadata": {},
   "source": [
    "#### __Bloques de código y estructuras de control__\n",
    "\n",
    "En esta sección se describen las estructuras de control del lenguaje Python a través de la ejemplicación práctica de éstas. \n",
    "\n",
    "##### Condicional if\n",
    "La implementación de condiciones permite incoporar el poder de ramas en un programa. A continución se ilustra el uso de la estructura if."
   ]
  },
  {
   "cell_type": "code",
   "execution_count": null,
   "metadata": {},
   "outputs": [],
   "source": [
    "def main():\n",
    "    a = input(\"Ingresa a:\")\n",
    "    if int(a)>40:\n",
    "        print(a + \" es mayor que 40\")\n",
    "    print(\"Adios..\")\n",
    "        \n",
    "if __name__ == \"__main__\":\n",
    "    main()"
   ]
  },
  {
   "cell_type": "code",
   "execution_count": null,
   "metadata": {},
   "outputs": [],
   "source": [
    "def main():\n",
    "    a = input(\"Ingresa a:\")\n",
    "    if int(a)>40:\n",
    "        print(a + \" es mayor que 40\")\n",
    "    else:\n",
    "        print(a + \" es menor que 40\")\n",
    "    print(\"Adios..\")\n",
    "\n",
    "if __name__ == \"__main__\":\n",
    "    main()"
   ]
  },
  {
   "cell_type": "code",
   "execution_count": null,
   "metadata": {},
   "outputs": [],
   "source": [
    "def main():\n",
    "    a = input(\"Ingresa a:\")\n",
    "    if int(a)== 0:\n",
    "        print(a+ \" es nulo\")\n",
    "    elif int(a)>0:\n",
    "        print(a+ \" es positivo\")\n",
    "    else:\n",
    "        print(a+ \" es negativo\")\n",
    "    print(\"Adios..\")\n",
    "        \n",
    "if __name__ == \"__main__\":\n",
    "    main()"
   ]
  },
  {
   "cell_type": "markdown",
   "metadata": {},
   "source": [
    "**Ejercicio # 1:** Realice un programa en Python que dado como dato el sueldo de un trabajador, le aplique un aumento del 15% si su sueldo es inferior a $1000.00 y del 12% en caso contrario. Imprima el nuevo sueldo del trabajador.  "
   ]
  },
  {
   "cell_type": "markdown",
   "metadata": {},
   "source": [
    "**Ejercicio # 2:** Realice un programa en Python que dado como datos la categoría y el sueldo de un trabajor, calcule el aumento correspondiente teniendo en cuenta la siguiente información e imprima el nuevo sueldo del trabajador:\n",
    "\n",
    "<ul>\n",
    "    <li>Categoría 1 : Aumento 15%</li>\n",
    "    <li>Categoría 2 : Aumento 10%</li>\n",
    "    <li>Categoría 3 : Aumento 8%</li>\n",
    "    <li>Categoría 4 : Aumento 7%</li>\n",
    "</ul>"
   ]
  },
  {
   "cell_type": "markdown",
   "metadata": {},
   "source": [
    "##### Ciclos for y while\n",
    "Python soporta ciclos while y ciclos for. A continuación se presentan algunos ejemplos del uso de éstos.\n",
    "\n",
    "###### Ciclo while\n",
    "__Ciclo while controlado por contador__"
   ]
  },
  {
   "cell_type": "code",
   "execution_count": null,
   "metadata": {},
   "outputs": [],
   "source": [
    "#Ciclo while controlado por contador\n",
    "def main():\n",
    "    suma, contador = 0, 1\n",
    "    while contador <=10:\n",
    "        suma = contador + suma\n",
    "        print(\"La suma en \" + str(contador) + \" es :\" + str(suma))\n",
    "        contador +=1\n",
    "\n",
    "if __name__ == \"__main__\":\n",
    "    main()\n"
   ]
  },
  {
   "cell_type": "markdown",
   "metadata": {},
   "source": [
    "En este caso ventualmente cuando el contador llegue a tener un valor de 10, la condición del ciclo numero <= 10 sera False, por lo que el ciclo terminará arrojando el siguiente resultado.\n",
    "\n",
    "__Ciclo while controlado por evento__"
   ]
  },
  {
   "cell_type": "code",
   "execution_count": null,
   "metadata": {},
   "outputs": [],
   "source": [
    "#Ciclo while controlado por evento\n",
    "bandera = True\n",
    "print(\"Operaciones Básicas\")\n",
    "while (bandera != False):\n",
    "    print(\"1) Suma\")\n",
    "    print(\"2) Resta\")\n",
    "    print(\"3) Multiplicacion\")\n",
    "    print(\"4) Division\")\n",
    "    print(\"Presione s o S para salir\")\n",
    "    print(\"Selecciona una opcion: \")\n",
    "    opcion = input()\n",
    "    if opcion == '1':\n",
    "        print(\"Ingresa el primer número\")\n",
    "        primer_numero = int(input())\n",
    "        print(\"Ingrese el segundo número\")\n",
    "        segundo_numero = int(input())\n",
    "        suma = primer_numero + segundo_numero\n",
    "        print(\"La suma es\", suma)\n",
    "    elif opcion == '2':\n",
    "        print(\"Ingresa el primer número\")\n",
    "        primer_numero = int(input())\n",
    "        print(\"Ingrese el segundo número\")\n",
    "        segundo_numero = int(input())\n",
    "        resta = primer_numero - segundo_numero\n",
    "        print(\"La resta es\", resta)\n",
    "    elif opcion == '3':\n",
    "        print(\"Ingresa el primer número\")\n",
    "        primer_numero = int(input())\n",
    "        print(\"Ingrese el segundo número\")\n",
    "        segundo_numero = int(input())\n",
    "        multi = primer_numero * segundo_numero\n",
    "        print(\"La multiplicacion es\", multi)\n",
    "    elif opcion == '4':\n",
    "        print(\"Ingresa el primer número\")\n",
    "        primer_numero = int(input())\n",
    "        print(\"Ingrese el segundo número\")\n",
    "        segundo_numero = int(input())\n",
    "        if segundo_numero == 0:\n",
    "            print(\"Division entre cero\")\n",
    "        else:\n",
    "            division = primer_numero / segundo_numero\n",
    "            print(\"La division es\", division)    \n",
    "    elif opcion == \"s\" or opcion==\"S\":\n",
    "        bandera = False\n",
    "    else:\n",
    "        print(\"Opcion invalida, intenta de nuevo!\")"
   ]
  },
  {
   "cell_type": "markdown",
   "metadata": {},
   "source": [
    "En este caso el evento que se dispara surge cuando el usuario ingresa \"s\" o \"S\", causando que el bucle while se interrumpa.\n",
    "\n",
    "__Ciclo while con else__\n",
    "\n",
    "Al igual que la sentencia if, la estructura whilepuede utilizar con una sentencia \"else\". Sin embargo, en este caso la sentencia \"else\" se ejecuta en todos los casos, es decir, cuando la expresión condicional del while sea False."
   ]
  },
  {
   "cell_type": "code",
   "execution_count": null,
   "metadata": {},
   "outputs": [],
   "source": [
    "bandera = True\n",
    "print(\"Operaciones Básicas\")\n",
    "while (bandera != False):\n",
    "    print(\"1) Suma\")\n",
    "    print(\"2) Resta\")\n",
    "    print(\"3) Multiplicacion\")\n",
    "    print(\"4) Division\")\n",
    "    print(\"Presione s o S para salir\")\n",
    "    print(\"Selecciona una opcion: \")\n",
    "    opcion = input()\n",
    "    if opcion == '1':\n",
    "        print(\"Ingresa el primer número\")\n",
    "        primer_numero = int(input())\n",
    "        print(\"Ingrese el segundo número\")\n",
    "        segundo_numero = int(input())\n",
    "        suma = primer_numero + segundo_numero\n",
    "        print(\"La suma es\", suma)\n",
    "    elif opcion == '2':\n",
    "        print(\"Ingresa el primer número\")\n",
    "        primer_numero = int(input())\n",
    "        print(\"Ingrese el segundo número\")\n",
    "        segundo_numero = int(input())\n",
    "        resta = primer_numero - segundo_numero\n",
    "        print(\"La resta es\", resta)\n",
    "    elif opcion == '3':\n",
    "        print(\"Ingresa el primer número\")\n",
    "        primer_numero = int(input())\n",
    "        print(\"Ingrese el segundo número\")\n",
    "        segundo_numero = int(input())\n",
    "        multi = primer_numero * segundo_numero\n",
    "        print(\"La multiplicacion es\", multi)\n",
    "    elif opcion == '4':\n",
    "        print(\"Ingresa el primer número\")\n",
    "        primer_numero = int(input())\n",
    "        print(\"Ingrese el segundo número\")\n",
    "        segundo_numero = int(input())\n",
    "        if segundo_numero == 0:\n",
    "            print(\"Division entre cero\")\n",
    "        else:\n",
    "            division = primer_numero / segundo_numero\n",
    "            print(\"La division es\", division)    \n",
    "    elif opcion == \"s\" or opcion==\"S\":\n",
    "        bandera = False\n",
    "    else:\n",
    "        print(\"Opcion invalida, intenta de nuevo!\")\n",
    "else:\n",
    "    print(\"Adios...\")"
   ]
  },
  {
   "cell_type": "markdown",
   "metadata": {},
   "source": [
    "En este caso una vez que el ciclo While se ve interrumpido, se dirige a la sentencia else y ejecuta la instrucción print(\"Adios\"). Cómo puedo observar en todos los casos, siempre se ejecutará el else."
   ]
  },
  {
   "cell_type": "markdown",
   "metadata": {},
   "source": [
    "###### Ciclo for\n",
    "La sentencia for en python difiere un poco de lo que se puede estar acostumbrado en entors lenguajes. En lugar de siempre iterar sobre una prgresión aritmética de números o darle al usuario la posibilidad de definir tanto el paso de la iteración como la condición de fin, la sentencia for de Python itera sobre los elementos de cualquier tipo iterable, en el orden en que aparecen en la secuencia.\n",
    "\n",
    "__Ciclo for con Listas__"
   ]
  },
  {
   "cell_type": "code",
   "execution_count": null,
   "metadata": {},
   "outputs": [],
   "source": [
    "animales = ['gato', 'perro', 'serpiente']\n",
    "for animal in animales:\n",
    "    print(\"El animal es: {0}, tamaño de palabra es: {1}\".format(animal, len(animal)))"
   ]
  },
  {
   "cell_type": "markdown",
   "metadata": {},
   "source": [
    "En el ejemplo anterior la variable animal toma cada uno de los elementos del elemento iterable sobre el cual se está iterando, en este caso una lista. Lo anterior se logra a través del uso del operador de pertenencia **\"in\"**, el cual evalua a verdadero si encuentra un variable en la secuencia especificada o falso de manera contraria. El operador \"in\" es usado para verificar si un valor existe o no en una secuencia. \n",
    "\n",
    "Por otro lado, la función **.format()** es uno de los métodos de formateo de cadenas, permitiendo concatenar elementos en una cadena de caracteres a través de un formateo posicional. Para lo anterior, las {} son colocadas en la posición en donde se desea concatenar un valor, el cual puede ser entero, flotante, strinc, caracteres, etc.\n",
    "\n",
    "La función **len()** devuelve la longitud de un elemento iterable.\n",
    "\n",
    "**Ejercicio # 3:** Realice un programa en Python que dado como datos los sueldos de 10 trabajadores de una empresa, obtenga el total de nómina de la misma. Puede utilizar un ciclo for o un ciclo while. \n",
    "\n",
    "__Ciclo for con Listas  y función range__"
   ]
  },
  {
   "cell_type": "code",
   "execution_count": null,
   "metadata": {},
   "outputs": [],
   "source": [
    "oracion = 'Los Maestros del departamento de Sistemas desean aprender Python'\n",
    "frases = oracion.split() \n",
    "print(\"La oración analizada es:\", oracion, \".\\n\")\n",
    "for palabra in range(len(frases)):\n",
    "    print(\"Palabra: {0}, en la frase su posición es: {1}\".format(frases[palabra], palabra))"
   ]
  },
  {
   "cell_type": "markdown",
   "metadata": {},
   "source": [
    "En el ejemplo anterior la variable \"palabra\" está tomando un valor entero de la progresión generada por la función **range()**, que en este caso tomó como parámetro el valor devuelto por la función **len()**, comenzando desde 0 hasta longitud-1. La función range toma la siguiente estrcutura: **range([start],stop[, step])**. \n",
    "\n",
    "<ol>\n",
    "    <li>start: inicio del número de la secuencia</li>\n",
    "    <li>stop: paro de la secuencia, es decir, hasta donde sin incluir este número</li>\n",
    "    <li>step: incremento</li>\n",
    "</ol>\n",
    "\n",
    "**Ejercicio # 4:** Realice un programa en Python que permita capturar en una lsita las calificacioens de N alumnos y que le permita calcular e imprimir lo siguiente:\n",
    "<ol>\n",
    "    <li>El promedio general de los alumnos</li>\n",
    "    <li>Numero de alumnos aprobados y número de alumnos reprobados (Si el alumno sacó una calificación menor a 70 se considera reprobado)</li>\n",
    "    <li>Porcentaje de alumnos aprobados y reprobados.</li>\n",
    "    <li>Número de alumnos cueya calificación fue mayor a 80</li>\n",
    "</ol>\n",
    "\n",
    "__Ciclo for con tuplas__"
   ]
  },
  {
   "cell_type": "code",
   "execution_count": null,
   "metadata": {},
   "outputs": [],
   "source": [
    "tupla = (1,'Una',2,'tupla',3,'es',4,'un tipo de dato',5,'inmutable',6,'en', 7,'Python')\n",
    "for elemento in tupla:\n",
    "    print (\"El elemento actual es:\",elemento)"
   ]
  },
  {
   "cell_type": "markdown",
   "metadata": {},
   "source": [
    "__Ciclo for con diccionarios__\n"
   ]
  },
  {
   "cell_type": "code",
   "execution_count": null,
   "metadata": {},
   "outputs": [],
   "source": [
    "datos_basicos = {\n",
    "    \"nombres\":\"Juan\",\n",
    "    \"apellidos\":\"Rulfo\",\n",
    "    \"fecha_nacimiento\":\"16/05/1917\",\n",
    "    \"lugar_nacimiento\":\"Apulco, San Gabriel, Sayula, Jalisco, México\",\n",
    "    \"nacionalidad\":\"Mexicana\",\n",
    "}\n",
    "\n",
    "print(\"\\n.::: Elementos del diccionario: ::.\")\n",
    "for clave, valor in datos_basicos.items():\n",
    "    print(clave + \": \" + valor)\n",
    "    \n",
    "print(\"\\n.::: Llaves del diccionario: ::.\")\n",
    "for clave in datos_basicos.keys():\n",
    "    print(clave)\n",
    "\n",
    "print(\"\\n.::: Valores del diccionario: ::.\")  \n",
    "for valores in datos_basicos.values():\n",
    "    print(valores)\n",
    "    \n"
   ]
  },
  {
   "cell_type": "markdown",
   "metadata": {},
   "source": [
    "Como se puede observar la iteración del ciclo sobre el diccionario es similar que iterar sobre una lista; sin embargo, la llave y el valor correspondiente se puede obtener al mismo tiempo usando la función **items()**, de lo contrario se hace uso de la función **keys()** y **values()**. \n",
    "\n",
    "**Ejercicio # 5:** Realice un programa en python que permita almacenar en un diccionario los datos generales de un alumno del ITC. Deberá poder imprimir cada uno de éstos datos a través de la clave del diccinario y modificar al menos uno de los datos (ej. número telefónico).\n",
    "\n",
    "\n",
    "__Ciclo for con else__"
   ]
  },
  {
   "cell_type": "code",
   "execution_count": null,
   "metadata": {},
   "outputs": [],
   "source": [
    "animales = ['gato', 'perro', 'serpiente']\n",
    "for animal in animales:\n",
    "    print(\"El animal es: {0}, tamaño de palabra es: {1}\".format(animal, len(animal)))\n",
    "else:\n",
    "    print(\"Adios..\")"
   ]
  },
  {
   "cell_type": "markdown",
   "metadata": {},
   "source": [
    "Al igual que la sentencia if y el bucle while, la estructura for también puede combinarse con una sentencia else, el cual se ejecutará en todos los casos, es decir, cuando la expresión condicional del bucle for sea False, (a comparación de la sentencia if).\n",
    "\n"
   ]
  },
  {
   "cell_type": "markdown",
   "metadata": {},
   "source": [
    "###### Iteradores\n",
    "Un iterador es un objeto que permite recorrer uno a uno los elementos almacenados en una estructura de datos, y operar con ellos. Los iteradores tienen que implementar un método next que debe devolver los elementos, de a uno por vez, comenzando por el primero. Y al llegar al final de la estructura, debe levantar una excepción de tipo StopIteration. Es importante mencionar que el ciclo for en Python implementa un interador de manera interna, por lo tanto las siguientes estructuras son equivalentes:\n",
    "\n",
    "```python\n",
    "for elemento in secuencia:\n",
    "    # hacer algo con elemento\n",
    "\n",
    "iterador = iter(secuencia)\n",
    "while True:\n",
    "    try:\n",
    "        elemento = iterador.next()\n",
    "    except StopIteration:\n",
    "        break\n",
    "    # hacer algo con elemento\n",
    "```    "
   ]
  },
  {
   "cell_type": "code",
   "execution_count": null,
   "metadata": {},
   "outputs": [],
   "source": [
    "iterador = ['1', 2, 'tres', 4.0].__iter__()\n",
    "while True:\n",
    "    try: \n",
    "        i = iterador.__next__()\n",
    "        print(i)\n",
    "    except StopIteration:\n",
    "        break"
   ]
  },
  {
   "cell_type": "markdown",
   "metadata": {},
   "source": [
    "Un objeto iterador en python debe implementar dos métodos especiales, **__iter__()** y **__next__()**. El método **__iter__()** regresa el objeto iterador en si; mientras que, el método **__next__()** regresa el siguiente elemento de la secuencia, en donde alcanzando el final lanza un **StopIteration** \n",
    "\n",
    "Es importante mencionar que todos los datos iterables soportan el método **iter()** regresando un iterador para el objeto dado."
   ]
  },
  {
   "cell_type": "code",
   "execution_count": null,
   "metadata": {},
   "outputs": [],
   "source": [
    "vocales = ['a', 'e', 'i', 'o', 'u']\n",
    "\n",
    "iterador_vocales = iter(vocales)\n",
    "print(next(iterador_vocales))"
   ]
  },
  {
   "cell_type": "markdown",
   "metadata": {},
   "source": [
    "#### __Funciones__\n",
    "Una función es un bloque de código que sólo se ejecuta cuando ésta es llamada, ésta puede regresar daos como un resultado. En Python una función es definida usando la palabra reservada **def**.\n",
    "##### Creación de una función"
   ]
  },
  {
   "cell_type": "code",
   "execution_count": null,
   "metadata": {},
   "outputs": [],
   "source": [
    "def funcion():\n",
    "    print(\"Hola docentes del Departamento de Sistemas y Computación \")\n",
    "    \n",
    "funcion()"
   ]
  },
  {
   "cell_type": "markdown",
   "metadata": {},
   "source": [
    "##### Paso de parámetros\n",
    "Los argumentos de una función son pasados por valor, de tal forma que si se cambia el valor de alrgumento dentro de la función, éste no cambia por fuera de la funciÓN. Si se desea que una función sea capaz de modificar variables no locales, éstas se deben declarar como globales en la primera linea de la fuinción. Es  importante mencionar que si se declara cualquier variable como global, el nombre no puede ser reusado en la lista de argumentos (causaría un error). A una función se le pueden pasar parámetros, los cuales son especificados después del nombre de la función, dentro de los paréntesis. "
   ]
  },
  {
   "cell_type": "code",
   "execution_count": null,
   "metadata": {},
   "outputs": [],
   "source": [
    "def funcion(nombre):\n",
    "  print(nombre + \" Sandoval\")\n",
    "\n",
    "funcion(\"Alejandra\")\n",
    "funcion(\"Felipe\")\n",
    "funcion(\"Tomás\") "
   ]
  },
  {
   "cell_type": "markdown",
   "metadata": {},
   "source": [
    "###### Parámetro por defecto"
   ]
  },
  {
   "cell_type": "code",
   "execution_count": null,
   "metadata": {},
   "outputs": [],
   "source": [
    "def funcion(pais = \"Noruega\"):\n",
    "  print(\"Yo soy de \" + pais)\n",
    "\n",
    "funcion(\"Suecia\")\n",
    "funcion(\"India\")\n",
    "funcion()\n",
    "funcion(\"Brasil\")"
   ]
  },
  {
   "cell_type": "markdown",
   "metadata": {},
   "source": [
    "###### Lista como parámetro"
   ]
  },
  {
   "cell_type": "code",
   "execution_count": null,
   "metadata": {},
   "outputs": [],
   "source": [
    "def funcion(comida):\n",
    "  for fruta in comida:\n",
    "    print(fruta)\n",
    "\n",
    "frutas = [\"manzana\", \"plátano\", \"uva\"]\n",
    "\n",
    "funcion(frutas)"
   ]
  },
  {
   "cell_type": "markdown",
   "metadata": {},
   "source": [
    "###### Regreso de valores"
   ]
  },
  {
   "cell_type": "code",
   "execution_count": null,
   "metadata": {},
   "outputs": [],
   "source": [
    "def funcion(numero):\n",
    "  return 5 * numero\n",
    "\n",
    "print(funcion(3))\n",
    "print(funcion(5))\n",
    "print(funcion(9)) "
   ]
  },
  {
   "cell_type": "markdown",
   "metadata": {},
   "source": [
    "###### Recursividad\n",
    "En Python una función es erecursiva si se manda llamar a sí misma y tinee una condición de termin, para evitar que la función se llama así misma infinitamente."
   ]
  },
  {
   "cell_type": "code",
   "execution_count": null,
   "metadata": {},
   "outputs": [],
   "source": [
    "def factorial(n):\n",
    "    if n == 1:\n",
    "        return 1\n",
    "    else:\n",
    "        return n * factorial(n-1)\n",
    "\n",
    "print(factorial(3))"
   ]
  },
  {
   "cell_type": "markdown",
   "metadata": {},
   "source": [
    "#### __Programación Orientada a Objetos__\n",
    "\n",
    "Algunas particularidades de la POO en Python son las siguientes:\n",
    "<ul>\n",
    "    <li>Todo es un objeto, incluyendo los tipos y clases\n",
    "    <li>Permite herencia múltiple</li>\n",
    "    <li>No existen métodos ni atributos privados</li>\n",
    "    <li>Los atributos pueden ser modificados directamente</li>\n",
    "    <li>Permite el \"monkey patching\"</li>\n",
    "    <li>Permite la sobrecarga de operadores</li>\n",
    "    <li>Permite la creación de nuevos tipos de datos</li>\n",
    "</ul>\n",
    "\n",
    "Las clases proveen una forma de empaquetar datos y funcionalidad juntos. Al crear una nueva clase, se crea un nuevo tipode  objeto,  permitiendo  crear  nuevas  instancias  de  ese  tipo.  Cada  instancia  de  clase  puede  tener  atributos  adjuntos  paramantener  su  estado.  Las  instancias  de  clase  también  pueden  tener  métodos  (definidos  por  su  clase)  para  modificar  suestado.\n",
    "\n",
    "En Python las clases son definidas de alguna manera simira a Java, alguna de las diferencias incluyen el **self** que se utiliza en lugar del **this** y los constructores siendo nombrados **```__init__```** en lugar de **classname**. El **self** debe ser utilizado cada vez que una variable de clase es referenciada y debe ser el primer argumento en cada lista de arugmentos de función, incluyendo el constructor. Como las funciones, una clase debe ser definida antes de que pueda ser instanciada. En python todos los miembros de una clase son públicos. \n",
    "\n",
    "En python se puede definir una clase utilizando la palabra reservada ```class```. El bloque que sigue es la definición de la clase. Dentro de la defiición se hace referencia a la instancia de la clase **self**. Por ejemplo, el atributo de instancia ```dato``` es llamado ```self.dato``` en la definición de la clase, y el método de instancia ```calcular``` es llamado ```self.caclular``` en la definciión de la clse (ej., es llamado by ```self.calcular()```, sino recibe ningún argumento).\n",
    "\n",
    "Métodos son definidos usando la palabra reservada ```def```. El primer argumento en cualquier método es ```self```; esta sintaxis es como Python le dice al método \"haz uso de los métodos y atributos previamente definidos en esta instancia\". Sin embargo, nunca se usa ```self``` cunaod mandas llamar un método. \n",
    "\n",
    "Usualmente el primero método que se define en una clases es el método ```__init__```. Este método es llamado cuando se crea una instancia de la clase, y usualmente se coloca código que maneja los argumentos presentes cuando se crea (o instancia) una instancia de la clase y realiza cualquier tipo de inicialización para una instancia de objeto. Los argumentos de ```__init__``` es la lista de argumentos que se pasan al constructor de la clase. A continuación se proporciona un ejemplo.\n"
   ]
  },
  {
   "cell_type": "code",
   "execution_count": null,
   "metadata": {},
   "outputs": [],
   "source": [
    "class Libro(object):\n",
    "    def __init__(self, autor_apellido, autor_nombre, titulo, lugar, editorial, year):\n",
    "        self.autor_apellido = autor_apellido\n",
    "        self.autor_nombre = autor_nombre\n",
    "        self.titulo = titulo\n",
    "        self.editorial = editorial\n",
    "        self.lugar = lugar\n",
    "        self.year = year\n",
    "        \n",
    "    def escribe_entrada_bibliografica(self):\n",
    "        return self.autor_apellido + \",\" + self.autor_nombre + \",\" + self.titulo + \",\" + self.editorial + \",\" + self.lugar + \",\" + self.year + \".\"\n",
    "    \n",
    "    \n",
    "def main():\n",
    "    belleza = Libro(\"Dubay\",\"Thomas\",\"The Evidential Power o Beuty\", \"San Francisco\", \"Ignatius Press\", \"1999\")\n",
    "    programacion_python = Libro(\"Martelli\", \"Alex\", \"Python in a Nutshell\", \"sebastopol,CA\", \"O'Reilly Media, Inc.\",\"2003\")\n",
    "    print(\"Apellido del Autor:\", belleza.autor_apellido)\n",
    "    print(\"Nombre del Autor:\", belleza.autor_nombre)\n",
    "    \n",
    "    \n",
    "    \n",
    "\n",
    "if __name__ == \"__main__\":\n",
    "    main()\n",
    "    "
   ]
  },
  {
   "cell_type": "markdown",
   "metadata": {},
   "source": [
    "**Ejercicio: # 6 ** Definición de clase propia.\n",
    "<ol>\n",
    "    <li>Cree una instancia de la clase Libro usando un libro de su preferencia o invente uno.</li>\n",
    "    <li>Modifique el año de la instancia belleza a 2010.</li>\n",
    "    <li>Imprima la entrada bibliográfica de la instancia belleza.</li>\n",
    "    <li>Agregue un método llamado \"hacer_autor_year\" a la definición de la clase que creará un atributo \"autor_year\" y fijará ese atributo a un string que tenga el apellido_autor y el año entre paréntesis. Por ejemplo: para la instancia belleza este método debería asignar autor_year a Dubay (1999). El método no deberá contener un return.</li>\n",
    "    <li>Cree una clase Articulo que meneja la información acerca de artículos. Debe ser muy sismilara la definición de la clase Libro, a excepción por la editorial,  y coloque información coo título del artículo, número de volumen, páginas, etc. Asegurese de que esta clase tenga el método \"escribe_entrada bibliografica\" y \"hacer_autor_year\".</li>\n",
    "</ol>"
   ]
  },
  {
   "cell_type": "code",
   "execution_count": null,
   "metadata": {},
   "outputs": [],
   "source": []
  }
 ],
 "metadata": {
  "kernelspec": {
   "display_name": "Python 3",
   "language": "python",
   "name": "python3"
  },
  "language_info": {
   "codemirror_mode": {
    "name": "ipython",
    "version": 3
   },
   "file_extension": ".py",
   "mimetype": "text/x-python",
   "name": "python",
   "nbconvert_exporter": "python",
   "pygments_lexer": "ipython3",
   "version": "3.7.3"
  }
 },
 "nbformat": 4,
 "nbformat_minor": 2
}
